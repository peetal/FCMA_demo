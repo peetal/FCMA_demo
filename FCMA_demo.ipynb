{
 "cells": [
  {
   "cell_type": "markdown",
   "metadata": {},
   "source": [
    "# Full Correlation Matrix Analysis (FCMA) demo "
   ]
  },
  {
   "cell_type": "markdown",
   "metadata": {},
   "source": [
    "### Purpose of this notebook\n",
    "- Given an experimental design that consists of two conditions (A and B), we can ask whether the functional connectivity (FC) between brain regions differs across conditions. Traditional FC analyses employ a seed based approach, which can be biased in terms of the regions or networks it discovers (seeds are aribtrarily chosen) and miss potentially important regions which are meeaningfully involved, but not systematically connected with the seed region (e.g., Wang et al., 2015). In order to perform whole-brain FC analyses in a manner which considers all pairwise correlations in the brain, FCMA was developed. \n",
    "\n",
    "- Using FCMA, we can answer 1) Do functional connectivity patterns differ between condition A and B? and 2) If so, which brain regions are driving the difference\n",
    "\n",
    "- This jupyter notebook uses simulated data to demo how the above two questions could be answered with FCMA.\n"
   ]
  },
  {
   "cell_type": "markdown",
   "metadata": {},
   "source": [
    "## Important features of simualted data\n",
    "\n",
    "\n",
    "- The simulated data consists of 8 subjects. The experiment consists of a  **block design** and two conditions (A and B). **Each condition has 10 blocks (or epochs) for a total of 20 epochs** for each subject. The order of the epochs were randomized across the 8 subjects. Each **epoch lasts for 15 time points** followed by **5 time points of ISI**. The total exepriment lasts 400 time points in total. Here, time points are arbitrary and are meant to correspond to single TRs in an actual study.\n",
    "\n",
    "\n",
    "- To reduce computational demands, we randomly selected 400 voxels as the brain mask. Thus the simulated data uses only **400 voxels**, and each voxel has 400 TRs.  \n",
    "\n"
   ]
  },
  {
   "cell_type": "code",
   "execution_count": 47,
   "metadata": {},
   "outputs": [],
   "source": [
    "from brainiak.fcma.preprocessing import prepare_fcma_data\n",
    "from brainiak.fcma.preprocessing import RandomType\n",
    "from brainiak.fcma.classifier import Classifier\n",
    "from brainiak.fcma.util import compute_correlation\n",
    "from brainiak import io\n",
    "from sklearn.svm import SVC\n",
    "from sklearn.model_selection import KFold\n",
    "import sys\n",
    "from mpi4py import MPI\n",
    "import logging\n",
    "import numpy as np\n",
    "import pandas as pd\n",
    "import nibabel as nib\n",
    "import os, glob, subprocess\n",
    "from itertools import product\n",
    "import seaborn as sns\n",
    "from nilearn import image, plotting, datasets\n",
    "import networkx as nx\n",
    "from nxviz.plots import CircosPlot\n",
    "import matplotlib.pyplot as plt\n",
    "import seaborn as sns \n"
   ]
  },
  {
   "cell_type": "markdown",
   "metadata": {},
   "source": [
    "## FCMA Step1: Feature (voxel) selection\n",
    "### The goal: \n",
    "- Given the default specification of \"left_out_subj\", we can divide the 8-subjects data into a training set (7 subjects) and a testing set (1 subject). This is referred to as \"outer loop leave-one-out cross validation\". The goal here is to perform feature selection on the traning set and use the selected features (7 subjects) to build a model and test using the left out test set (1 subject). This will ultimately be done 8 times to provide a complete assessment of all 8 subjects. "
   ]
  },
  {
   "cell_type": "code",
   "execution_count": 2,
   "metadata": {},
   "outputs": [
    {
     "name": "stdout",
     "output_type": "stream",
     "text": [
      "Load in the volumes, mask and labels\n",
      "Parse the epoch data for useful dimensions\n",
      "Preprocess the data and prepare for FCMA\n",
      "Enforce left one out\n",
      "Take out the idxs corresponding to all participants but this one\n"
     ]
    }
   ],
   "source": [
    "# --------------------\n",
    "# Set up directories\n",
    "# --------------------\n",
    "\n",
    "cur_dir = os.getcwd()\n",
    "data_dir = os.path.join(cur_dir, 'simulated_data')  # What is the directory containing data?\n",
    "suffix = '.nii.gz'  # What is the extension of the data you're loading\n",
    "mask_file = os.path.join(cur_dir, 'cherry_picked_brain',  'cherry_pick_brain_mask.nii.gz')  # What is the path to the whole brain mask\n",
    "epoch_file = os.path.join(cur_dir, 'simulated_data', 'sim_epoch_file.npy')  # What is the path to the epoch file\n",
    "left_out_subj = 0  # Which participant (as an integer) are you leaving out for this cv, for the current demo, set it to 0\n",
    "output_dir = os.path.join(cur_dir, 'FCMA_result')  # What is the path to the folder you want to save this data in\n",
    "\n",
    "if not os.path.exists(output_dir):\n",
    "    os.makedirs(output_dir)\n",
    "    \n",
    "# ----------------------------\n",
    "# Load and Preprocess the data\n",
    "# ----------------------------\n",
    "\n",
    "print(\"Load in the volumes, mask, and labels\")\n",
    "images = io.load_images_from_dir(data_dir, suffix=suffix)\n",
    "mask = io.load_boolean_mask(mask_file)\n",
    "epoch_list = io.load_labels(epoch_file)\n",
    "\n",
    "print(\"Parse the epoch data for useful dimensions\")\n",
    "epochs_per_subj = epoch_list[0].shape[1]\n",
    "num_subjs = len(epoch_list)\n",
    "\n",
    "print(\"Preprocess the data and prepare for FCMA\")\n",
    "raw_data, _, labels = prepare_fcma_data(images, epoch_list, mask)\n",
    "\n",
    "# ----------------------------------\n",
    "# Outer loop - take out traning set \n",
    "# for feature selection\n",
    "# ----------------------------------\n",
    "\n",
    "print(\"enforce leave one out\")\n",
    "start_idx = int(int(left_out_subj) * epochs_per_subj)\n",
    "end_idx = int(start_idx + epochs_per_subj)\n",
    "\n",
    "print(\"Take out the idxs corresponding to all participants but this one\")\n",
    "subsampled_idx = list(set(range(len(labels))) - set(range(start_idx, end_idx)))\n",
    "labels_subsampled = [labels[i] for i in subsampled_idx]\n",
    "raw_data_subsampled = [raw_data[i] for i in subsampled_idx]"
   ]
  },
  {
   "cell_type": "markdown",
   "metadata": {},
   "source": [
    "### Understand preprocessed data\n",
    "- Up to this point, we have our training set ready, which includes all epochs (i.e., blocks) and labels for all subjects except subject-0. Now let's look at our training set in more detail. \n",
    "- Remember that each subject has 20 epochs (i.e., blocks), evenly divided into two conditions. Given that we have 7 subjects' data in our outer-loop traning set, we have in total 7 x 20 = 140 epochs, thus 140 labels. \n",
    "- Each epoch is stored as a two-dimension array of time point by voxel. In the simulated data, each epoch lasts 15 time points and the cherry-picked brain has in total 400 voxels. Thus, each epoch array has the shape of 15 by 400. "
   ]
  },
  {
   "cell_type": "code",
   "execution_count": 3,
   "metadata": {},
   "outputs": [
    {
     "name": "stdout",
     "output_type": "stream",
     "text": [
      "Label count: 140\n",
      "Epoch (block) count: 140\n",
      "Shape of each epoch (block): (15, 400)\n"
     ]
    }
   ],
   "source": [
    "print(f\"Label count: {len(labels_subsampled)}\")\n",
    "print(f\"Epoch (block) count: {len(raw_data_subsampled)}\")\n",
    "print(f\"Shape of each epoch (block): {raw_data_subsampled[0].shape}\")"
   ]
  },
  {
   "cell_type": "markdown",
   "metadata": {},
   "source": [
    "### Feature selection with simplified implementation\n",
    "- Please note that the following code is a simplified approximation of feature selection in the FCMA toolbox and is not practical for real data due to computation constraints. Actual implementation of FCMA uses the message passing interface (MPI) which requests at least 2 processors for a job, however Jupyter notebook typically allows only 1 processor. However, the implementation used here is designed to conceptually replicate the feature selection step for FCMA and can be used to understand what exactly happens under the hood.\n",
    "\n",
    "#### Steps:\n",
    "\n",
    "1. First, we enlarge the feature space by computing the correlation matrix of all voxels in the mask. Becuase the simulated brain only has 400 voxels, this yields a 400 x 400 correlation matrix. Each row/column is the functional connectivity between a given voxel and all other voxels in the brain.\n",
    "\n",
    "2. For each voxel, we want to know how well its functional connectivity with every other brain voxels differentiates the task conditions. Thus, for each brain voxel, we can \n",
    "    - A) Extract the corresponding row from each subject's correlation matrix, resulting a single array for each subject.  \n",
    "    - B) Perform an _inner loop_ leave-one-out cross validation. That is, for each fold, one subject will be left out and so 7-1 = 6 arrays (one for each subject) will be used as the training set and the left out array will be used as the validation set. \n",
    "    - C) A prediction accuracy value for this selected voxel could be computed for each fold, \n",
    "    - D) Final prediction accuracy for this voxel can be averaged across the 7 folds. \n",
    "\n",
   ]
  },
  {
   "cell_type": "code",
   "execution_count": 74,
   "metadata": {},
   "outputs": [],
   "source": [
    "# -----------------------------\n",
    "# Enlarging the feature space \n",
    "# -----------------------------\n",
    "raw_data_subsampled_mat = [np.corrcoef(sample.T) for sample in raw_data_subsampled]\n",
    "\n",
    "\n",
    "# ------------------------------------------\n",
    "# Inner loop leave one out cross validation\n",
    "# ------------------------------------------\n",
    "vox_score = []\n",
    "# for every voxel in the brain\n",
    "for i in range(raw_data_subsampled_mat[0].shape[0]):\n",
    "    \n",
    "    # A) extract the corresponding row from each subjects' correlation matrix \n",
    "    raw_data_sub_selected_vox = [sample[i,] for sample in raw_data_subsampled_mat]\n",
    "\n",
    "    # B) Perform the inner loop leave-one-out cross validation\n",
    "    kf = KFold(n_splits = num_subjs - 1)\n",
    "    score = []\n",
    "    for train_ind, test_ind in kf.split(labels_subsampled):\n",
    "\n",
    "        # For each fold, get training and validation set \n",
    "        vox_train, vox_test = [raw_data_sub_selected_vox[ind] for ind in train_ind], [raw_data_sub_selected_vox[ind] for ind in test_ind]\n",
    "        lab_train, lab_test = [labels_subsampled[ind] for ind in train_ind], [labels_subsampled[ind] for ind in test_ind]\n",
    "\n",
    "        # set up the model\n",
    "        svm_clf = SVC(kernel='linear', shrinking=False, C=1)\n",
    "\n",
    "        # train the model\n",
    "        svm_clf.fit(vox_train, lab_train)\n",
    "\n",
    "        # test the model\n",
    "        predict = svm_clf.predict(vox_test)\n",
    "        \n",
    "        # C) A prediction accuracy value for this selected voxel could be computed for each fold\n",
    "        score.append(svm_clf.score(vox_test, lab_test))\n",
    "    \n",
    "    # D) Final prediction accuracy for this voxel\n",
    "    vox_score.append(np.mean(score))\n",
    "\n"
   ]
  },
  {
   "cell_type": "markdown",
   "metadata": {},
   "source": [
    "### Understand the outputs of feature selection\n",
    "- For each inner loop fold, we end up getting a list of prediction accuracy, one for each voxel in the brain. Thus the length of this list equals the total number of voxels in the brain (i.e., 400). \n",
    "- We can then rank these voxels based on their classification accuracy. Thus each voxel, in addition to have a prediction accuracy value, will also have a rank value. "
   ]
  },
  {
   "cell_type": "code",
   "execution_count": 75,
   "metadata": {},
   "outputs": [
    {
     "name": "stdout",
     "output_type": "stream",
     "text": [
      "The length of the prediction accuracy list is 400\n",
      "The top ranked 10 voxel IDs are [117, 247, 261, 7, 65, 110, 118, 125, 368, 88]\n"
     ]
    }
   ],
   "source": [
    "# rank all voxels based on their prediction accuracies, the higher the acc, the higher the rank \n",
    "vox_dic = {vid:score for vid, score in zip(range(len(vox_score)), vox_score)}\n",
    "vox_rank = sorted(vox_dic, key=vox_dic.get, reverse=True)\n",
    "\n",
    "print(f\"The length of the prediction accuracy list is {len(vox_score)}\")\n",
    "print(f\"The top ranked 10 voxel IDs are {vox_rank[0:10]}\")"
   ]
  },
  {
   "cell_type": "markdown",
   "metadata": {},
   "source": [
    "### Perform feature selection with actual FCMA implementation\n",
    "- After understanding what the feature selection step does, lets now run the actual FCMA feature selection code. This actual code will go through everything we have done up to this point, but 1) with a much finer and efficient implementation and 2) repeating it 8 times, with each time leaving out a different subject (the example code only is only one fold of the outer loop, leaving out subject 0). \n",
    "- If you run this locally, expect it to take a couple minutes. You can monitor your terminal for progress. "
   ]
  },
  {
   "cell_type": "code",
   "execution_count": 78,
   "metadata": {},
   "outputs": [],
   "source": [
    "# Use subprocess to run a python script with MPI. This should work on a cluster or local computer. \n",
    "for left_sid in range(num_subjs):\n",
    "    subprocess.run(f\"mpirun -np 2 python3 ./FCMA_script/fcma_voxel_selection_cv.py {data_dir} {suffix} {mask_file} {epoch_file} {left_sid} {output_dir}\", shell = True) "
   ]
  },
  {
   "cell_type": "markdown",
   "metadata": {},
   "source": [
    "- Now let's look at its outputs, and let's focus on those from the first fold that left out subject0. \n",
    "    - The '*.txt' is basically our 'vox_dic' in the demo code, but in a ranked manner. \n",
    "    - Each brain voxel in the '*score.nii.gz' file was assigned with its predcition accuracy. \n",
    "    - Each brain voxel in the '*seq.nii.gz' file was assigned with its prediction accuracy rank (rank = 0 means the highest acc). Using this file, we could select the top performed brain voxels to form a 'top_n_mask', with n being the number of the top-performed voxels selected."
   ]
  },
  {
   "cell_type": "code",
   "execution_count": 79,
   "metadata": {},
   "outputs": [
    {
     "data": {
      "text/plain": [
       "['/Users/peetal/Desktop/FCMA_demo/FCMA_result/fc_no0_result_seq.nii.gz',\n",
       " '/Users/peetal/Desktop/FCMA_demo/FCMA_result/fc_no0_result_score.nii.gz',\n",
       " '/Users/peetal/Desktop/FCMA_demo/FCMA_result/fc_no0_result_list.txt']"
      ]
     },
     "execution_count": 79,
     "metadata": {},
     "output_type": "execute_result"
    }
   ],
   "source": [
    "glob.glob(os.path.join(output_dir, 'fc_no0*'))"
   ]
  },
  {
   "cell_type": "markdown",
   "metadata": {},
   "source": [
    "- The top ranked 10 voxel IDs from the FCMA output. Notice that they are almost exactly the same as those identified using the simplified code above. The differences in numeric value could be due to non-identical implementation to FCMA."
   ]
  },
  {
   "cell_type": "code",
   "execution_count": 80,
   "metadata": {},
   "outputs": [
    {
     "data": {
      "text/plain": [
       "['7', '88', '117', '157', '261', '118', '65', '125', '368', '247']"
      ]
     },
     "execution_count": 80,
     "metadata": {},
     "output_type": "execute_result"
    }
   ],
   "source": [
    "with open(output_dir + '/fc_no0_result_list.txt', 'r') as f:\n",
    "    line = f.readlines()\n",
    "[l.split(' ')[0] for l in line[0:10]]"
   ]
  },
  {
   "cell_type": "markdown",
   "metadata": {},
   "source": [
    "### Select n top performed features\n",
    "- Remember that so far we have got 8 '*seq.nii.gz' files, one for each left out subjects. Now we are going to select the N top-performed voxels to form brain masks for each left out subject. \n",
    "- The value N could be arbitrarily decided. Here we show N = 10, 20, 30. Small numbers were used to reduce computation demands. \n",
    
   ]
  },
  {
   "cell_type": "code",
   "execution_count": 81,
   "metadata": {},
   "outputs": [],
   "source": [
    "# make top n masks\n",
    "for n in [10,20,30]:\n",
    "    top_n = 'top_' + str(n)\n",
    "    #subprocess.run(\"module load fsl\", shell = True)\n",
    "    subprocess.run(f\"bash ./FCMA_script/make_top_voxel_mask.sh {output_dir} {n} {os.path.join(output_dir, top_n)}\", shell = True)"
   ]
  },
  {
   "cell_type": "markdown",
   "metadata": {},
   "source": [
    "## Step 2: Classification using the selected features (voxels)\n",
    "\n",
    "#### The goal\n",
    "- We have selected top N features (voxels) from the original brain mask. Now we can ask if we only consider the connectivity pattern within these selected voxels, how well can a classifier do in terms of differentiating two conditions? The rationale is that if a classifier trained on the FC pattern of the selected features is enough to differentiate the two task conditions, then we could say that the selected voxels are the brain regions among which the FC changes characterize certain task differences. \n",
    "\n",
    "- For the demo, we will still focus on Subject 0. During the feature selection step, we have selected top N features (voxels) using the traning set (the data of the rest 7 subjects). Now we are going to use these features to build a predictive model and use subject 0 as a testing data to finish the first fold of our outer loop cross validation. \n",
    "\n",
    "#### Steps\n",
    "\n",
    "1. Preprocess all 8 subjects' data as we have discussed above, yielding a list of labels of the length equals 20 (epochs/subject) * 8 (subjects) = 160, and a list of epoch data of the same length. Within each epoch (i.e., each entry in the variable \"int_data\" in the code below), there is a 2d array of [timepoint, nVoxel]. Note that nVoxel depends on the size of the top n masks we are using.\n",
    "\n",
    "2. Divide the data into training and testing set. This is exactly the same as the feature selection step except that now we have already selected meaningful voxels from the traning set. In this demo, the trianing set is subject 1 - 7 and the testing set is subject 0. \n",
    "\n",
    "3. Train a model using the FC pattern within the top voxels. \n",
    "\n",
    "4. Test the model using the left out subject. "
   ]
  },
  {
   "cell_type": "code",
   "execution_count": 82,
   "metadata": {},
   "outputs": [
    {
     "name": "stdout",
     "output_type": "stream",
     "text": [
      "--TOP 10 Voxels RESULTS--\n",
      "Top feature size: TOP 10 Voxels\n",
      "[-4.20675165 -3.88490625  0.56542723 -1.00673355  0.44397475  0.98067244\n",
      " -2.67554682 -4.59680603 -5.10849732  1.31384181  1.12661917 -2.14709121\n",
      "  0.71594991  2.44972832  3.38266405  5.47356223  2.24419188  2.06794301\n",
      "  0.84560292  1.12130425]\n",
      "[0 0 1 0 1 1 0 0 0 1 1 0 1 1 1 1 1 1 1 1]\n",
      "When leaving subject 0 out for testing using the /Users/peetal/Desktop/FCMA_demo/FCMA_result/top_10/fc_no0_result_seq_top10.nii.gz mask for an intrinsic correlation, the accuracy is 15 / 20 = 0.75\n",
      "---------------------------------------------------------------------------------------------------\n",
      "--TOP 20 Voxels RESULTS--\n",
      "Top feature size: TOP 20 Voxels\n",
      "[-0.48627324 -0.84935391 -0.27051834 -0.34932846 -1.46580457 -0.44201257\n",
      " -0.83391803 -2.25831648 -0.52109797 -0.44800317  0.37804332  0.07782005\n",
      "  0.91908168  0.63763344  1.45488306  1.54257089  1.0691264   1.13135145\n",
      "  0.80214601  0.6720513 ]\n",
      "[0 0 0 0 0 0 0 0 0 0 1 1 1 1 1 1 1 1 1 1]\n",
      "When leaving subject 0 out for testing using the /Users/peetal/Desktop/FCMA_demo/FCMA_result/top_20/fc_no0_result_seq_top20.nii.gz mask for an intrinsic correlation, the accuracy is 20 / 20 = 1.00\n",
      "---------------------------------------------------------------------------------------------------\n",
      "--TOP 30 Voxels RESULTS--\n",
      "Top feature size: TOP 30 Voxels\n",
      "[-0.28538792 -0.0522221  -0.36699865 -0.25605295 -0.68587767 -0.34833759\n",
      " -0.69794263 -1.08978284 -0.44282535 -0.38892418  0.3537948  -0.60454384\n",
      "  0.65464748  0.49777431  0.4322301   1.02326911  0.7271251   0.73474396\n",
      "  0.51744501  0.55475626]\n",
      "[0 0 0 0 0 0 0 0 0 0 1 0 1 1 1 1 1 1 1 1]\n",
      "When leaving subject 0 out for testing using the /Users/peetal/Desktop/FCMA_demo/FCMA_result/top_30/fc_no0_result_seq_top30.nii.gz mask for an intrinsic correlation, the accuracy is 19 / 20 = 0.95\n",
      "---------------------------------------------------------------------------------------------------\n"
     ]
    }
   ],
   "source": [
    "# ------------------------------------------\n",
    "# top n feature mask from the training set \n",
    "# ------------------------------------------\n",
    "# path to 3 top feature masks \n",
    "top_n_mask_files = {os.path.join(output_dir, \"top_10/fc_no0_result_seq_top10.nii.gz\") : 'TOP 10 Voxels',\n",
    "                    os.path.join(output_dir, \"top_20/fc_no0_result_seq_top20.nii.gz\") : 'TOP 20 Voxels',\n",
    "                    os.path.join(output_dir, \"top_30/fc_no0_result_seq_top30.nii.gz\") : 'TOP 30 Voxels'}\n",
    "\n",
    "# for each top feature mask: \n",
    "for top_n_mask_path in top_n_mask_files.keys():\n",
    "    \n",
    "    # ----------------\n",
    "    # preprocess data \n",
    "    # ----------------\n",
    "    # Load in the volumes, mask and labels\n",
    "    images = io.load_images_from_dir(data_dir, suffix=suffix)\n",
    "    top_n_mask = io.load_boolean_mask(top_n_mask_path)\n",
    "    epoch_list = io.load_labels(epoch_file)\n",
    "\n",
    "    # Parse the epoch data for useful dimensions\n",
    "    epochs_per_subj = epochs_per_subj = epoch_list[0].shape[1]\n",
    "    num_subjs = len(epoch_list)\n",
    "\n",
    "    # Prepare the data\n",
    "    int_data, _, labels = prepare_fcma_data(images, epoch_list, top_n_mask)\n",
    "\n",
    "    # -------------------\n",
    "    # Outer loop testing\n",
    "    # -------------------\n",
    "\n",
    "    # What indexes pick out the left out participant?\n",
    "    start_idx = int(int(left_out_subj) * epochs_per_subj)\n",
    "    end_idx = int(start_idx + epochs_per_subj)\n",
    "\n",
    "    # Take out the idxs corresponding to all participants but this one\n",
    "    training_idx = list(set(range(len(labels))) - set(range(start_idx, end_idx)))\n",
    "    testing_idx = list(range(start_idx, end_idx))\n",
    "\n",
    "    # Pull out the data\n",
    "    int_data_training = [int_data[i] for i in training_idx]\n",
    "    int_data_testing = [int_data[i] for i in testing_idx]\n",
    "\n",
    "    # Pull out the labels\n",
    "    labels_training = [labels[i] for i in training_idx]\n",
    "    labels_testing = [labels[i] for i in testing_idx]\n",
    "\n",
    "    # Prepare the data to be processed efficiently (albeit in a less easy to follow way)\n",
    "    rearranged_int_data = int_data_training + int_data_testing\n",
    "    rearranged_labels = labels_training + labels_testing\n",
    "    num_training_samples = epochs_per_subj * (num_subjs - 1)\n",
    "\n",
    "    # Set up data so that the internal mask is correlated with the internal mask\n",
    "    corr_obj = list(zip(rearranged_int_data, rearranged_int_data))\n",
    "\n",
    "    # no shrinking, set C=1\n",
    "    svm_clf = SVC(kernel='precomputed', shrinking=False, C=1)\n",
    "\n",
    "    clf = Classifier(svm_clf, epochs_per_subj=epochs_per_subj)\n",
    "\n",
    "    # Train the model on the training data\n",
    "    clf.fit(corr_obj, rearranged_labels, num_training_samples)\n",
    "\n",
    "    # Test on the testing data\n",
    "    predict = clf.predict()\n",
    "\n",
    "    # ---------------------\n",
    "    # Print out the results\n",
    "    # ---------------------\n",
    "    \n",
    "    print(f'--{top_n_mask_files[top_n_mask_path]} RESULTS--')\n",
    "    print(f\"Top feature size: {top_n_mask_files[top_n_mask_path]}\")\n",
    "    print(clf.decision_function())\n",
    "    print(clf.predict())\n",
    "\n",
    "    # How often does the prediction match the target\n",
    "    num_correct = (np.asanyarray(predict) == np.asanyarray(labels_testing)).sum()\n",
    "\n",
    "\n",
    "    # Report accuracy\n",
    "    print( 'When leaving subject %d out for testing using the %s mask for an intrinsic correlation, the accuracy is %d / %d = %.2f' %\n",
    "        (int(left_out_subj), top_n_mask_path,  num_correct, epochs_per_subj, num_correct / epochs_per_subj))\n",
    "    print('---------------------------------------------------------------------------------------------------')"
   ]
  },
  {
   "cell_type": "markdown",
   "metadata": {},
   "source": [
    "### Understanding the outputs of classification\n",
    "1. **Decision function outputs**: a list of values that have length equal to the number of epochs (in the case of a two way classification). Each value indicates an epoch's location relative to the hyperplane defined in SVM. The sign of the output indicates the class of the epoch and the absolute value indicates the confidence of the classification of this epoch. \n",
    "2. **Class prediction**: a list of values that has the length equal to the number of epochs (in the case of a two way classification). Each value indicates the guessed class of the epoch (which condition). \n",
    "3. **Classification accuracy**: correctly classified epochs / total epochs\n",
    "\n",
    "### Perform classification for all outer loop folds using FCMA script\n",
    "- The outer loop has 8 folds (8 subjects) and each subject has 3 top n masks. Thus in total 24 classifications would be performed. \n",
    "- The whole process should take around 10 minutes depends on your laptop. You do not have to run this as the output is already included in the folder. \n"
   ]
  },
  {
   "cell_type": "code",
   "execution_count": 83,
   "metadata": {},
   "outputs": [
    {
     "name": "stdout",
     "output_type": "stream",
     "text": [
      "Left out subject 0, Top 10 voxel mask, Classification done\n",
      "Left out subject 1, Top 10 voxel mask, Classification done\n",
      "Left out subject 2, Top 10 voxel mask, Classification done\n",
      "Left out subject 3, Top 10 voxel mask, Classification done\n",
      "Left out subject 4, Top 10 voxel mask, Classification done\n",
      "Left out subject 5, Top 10 voxel mask, Classification done\n",
      "Left out subject 6, Top 10 voxel mask, Classification done\n",
      "Left out subject 7, Top 10 voxel mask, Classification done\n",
      "Left out subject 0, Top 20 voxel mask, Classification done\n",
      "Left out subject 1, Top 20 voxel mask, Classification done\n",
      "Left out subject 2, Top 20 voxel mask, Classification done\n",
      "Left out subject 3, Top 20 voxel mask, Classification done\n",
      "Left out subject 4, Top 20 voxel mask, Classification done\n",
      "Left out subject 5, Top 20 voxel mask, Classification done\n",
      "Left out subject 6, Top 20 voxel mask, Classification done\n",
      "Left out subject 7, Top 20 voxel mask, Classification done\n",
      "Left out subject 0, Top 30 voxel mask, Classification done\n",
      "Left out subject 1, Top 30 voxel mask, Classification done\n",
      "Left out subject 2, Top 30 voxel mask, Classification done\n",
      "Left out subject 3, Top 30 voxel mask, Classification done\n",
      "Left out subject 4, Top 30 voxel mask, Classification done\n",
      "Left out subject 5, Top 30 voxel mask, Classification done\n",
      "Left out subject 6, Top 30 voxel mask, Classification done\n",
      "Left out subject 7, Top 30 voxel mask, Classification done\n"
     ]
    }
   ],
   "source": [
    "# run classification for each left out subject for each top-n-mask size\n",
    "for n, left_sid in product([10,20,30],range(8)):\n",
    "    \n",
    "    top_n_mask_file_path = os.path.join(output_dir, f'top_{n}', f'fc_no{left_sid}_result_seq_top{n}.nii.gz')\n",
    "    results_path = os.path.join(output_dir, f'top_{n}')\n",
    "    \n",
    "    subprocess.run(f\"mpirun -np 2 python3 ./FCMA_script/fcma_classify.py {data_dir} {suffix} {top_n_mask_file_path} {epoch_file} {left_sid} {results_path}\", shell = True) \n",
    "    \n",
    "    print(f\"Left out subject {left_sid}, Top {n} voxel mask, Classification done\")"
   ]
  },
  {
   "cell_type": "markdown",
   "metadata": {},
   "source": [
    "- Examine classification accuracy for different top-n-mask"
   ]
  },
  {
   "cell_type": "code",
   "execution_count": 95,
   "metadata": {},
   "outputs": [
    {
     "data": {
      "image/png": "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\n",
      "text/plain": [
       "<Figure size 432x288 with 1 Axes>"
      ]
     },
     "metadata": {
      "needs_background": "light"
     },
     "output_type": "display_data"
    }
   ],
   "source": [
    "# write a function to extract left-out subject id and the classification acc. \n",
    "def extract_clf_acc(base_dir, top_num, num_subjs):\n",
    "    \n",
    "    import os\n",
    "    import numpy as np\n",
    "    import pandas as pd\n",
    "    path = os.path.join(base_dir, top_num, 'classify_result.txt')\n",
    "\n",
    "    # read each line, from which extract the left out subject id and the clf acc\n",
    "    with open(path, \"r\") as file:\n",
    "        lines = file.readlines()\n",
    "    loo_id = []\n",
    "    acc = []\n",
    "    for line in lines: \n",
    "        id_start_index = line.index('_no') + len('_no')\n",
    "        id_end_index = line.index('_result_seq')\n",
    "        id = int(line[id_start_index:id_end_index])\n",
    "        loo_id.append(id)\n",
    "\n",
    "        acc_start_index = line.index(': ') + 2\n",
    "        acc_end_index = line.index('\\n')\n",
    "        score = float(line[acc_start_index:acc_end_index])\n",
    "        acc.append(score)\n",
    "\n",
    "    # write a dataframe\n",
    "    \n",
    "    colnames = ['loo_id','clf_acc','top_num']\n",
    "    df = pd.DataFrame(index=range(len(loo_id)), columns=colnames)\n",
    "    df['loo_id'] = loo_id \n",
    "    df['clf_acc'] = acc\n",
    "    df['top_num'] = np.repeat(top_num, len(loo_id)).tolist()\n",
    "        \n",
    "    return df\n",
    "\n",
    "# generate df and concatenate them together\n",
    "df_list = [extract_clf_acc(output_dir,'top_10', num_subjs),\n",
    "           extract_clf_acc(output_dir,'top_20', num_subjs),\n",
    "           extract_clf_acc(output_dir,'top_30', num_subjs)]\n",
    "final_df = pd.concat(df_list).reset_index(drop=True)\n",
    "\n",
    "# a quick look at the df \n",
    "ax = sns.pointplot(x=\"top_num\", y=\"clf_acc\", data=final_df)"
   ]
  },
  {
   "cell_type": "markdown",
   "metadata": {},
   "source": [
    "## Take Aways\n",
    "- Going back our two initial questions, we asked: \n",
    "    1. Do functional connectivity patterns differ across condition A and B \n",
    "    2. What are the brain regions among which the FC pattern characterize each task condition? \n",
    "- Answering Q1: \n",
    "    - Based on the plot above, we can argue the functional connectivity pattern within the top n selected voxels can be used to differentiate whether a subject is doing condition A or B with relatively high accuracy. Thus, the answer to question 1 is yes! the FC patterns do differ across condition A and B.\n",
    "- Answering Q2:\n",
    "    - Let's take the top 30 voxel results as an example. Remember that the top 30 voxels for each training sets may be different given that we have 8 training sets (one for each left out subject). Thus a given voxel may appear 0 - 8 times in these 8 top-30-feature masks. This can be converted into a proportion (what proportion of folds does each voxel end up in the top 30 voxels), resulting a voxelwise map. (i.e., 'prop_top30.nii.gz')\n",
    "    - Let's look at out cherry picked brain again, which is consist of 400 voxels in total. "
   ]
  },
  {
   "cell_type": "code",
   "execution_count": 87,
   "metadata": {},
   "outputs": [
    {
     "name": "stdout",
     "output_type": "stream",
     "text": [
      "The 400 voxel brain\n"
     ]
    },
    {
     "data": {
      "text/plain": [
       "<nilearn.plotting.displays.OrthoSlicer at 0x7fec94884dd8>"
      ]
     },
     "execution_count": 87,
     "metadata": {},
     "output_type": "execute_result"
    },
    {
     "data": {
      "image/png": "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\n",
      "text/plain": [
       "<Figure size 475.2x187.2 with 4 Axes>"
      ]
     },
     "metadata": {},
     "output_type": "display_data"
    }
   ],
   "source": [
    "print(\"The 400 voxel brain\")\n",
    "plotting.plot_epi(image.load_img(os.path.join(cur_dir,'cherry_picked_brain','cherry_pick_brain_mask.nii.gz')),(65,43,80))"
   ]
  },
  {
   "cell_type": "markdown",
   "metadata": {},
   "source": [
    "- Then we overlay the this map and observe where the top 30 voxels are reliably located.\n"
   ]
  },
  {
   "cell_type": "code",
   "execution_count": 88,
   "metadata": {},
   "outputs": [
    {
     "data": {
      "image/png": "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\n",
      "text/plain": [
       "<Figure size 475.2x187.2 with 4 Axes>"
      ]
     },
     "metadata": {},
     "output_type": "display_data"
    }
   ],
   "source": [
    "display = plotting.plot_epi(image.load_img(os.path.join(cur_dir,'cherry_picked_brain','cherry_pick_brain_mask.nii.gz')),cut_coords = (65,43,80))\n",
    "display.add_overlay(image.load_img(os.path.join(output_dir, 'top_30','prop_top30.nii.gz')), cmap=plotting.cm.black_pink)"
   ]
  },
  {
   "cell_type": "markdown",
   "metadata": {},
   "source": [
    "- For a given epoch, we can use circos plot to understand the functional connectivity pattern between our top N voxels. Note that for plotting the circos plot, one would usually be dealing with thousands of voxels, thus knowing how to group voxels beforehand is important. Here for the simulated data, we have two arbitrarily chosen ROIs, and the top N voxels were grouped into one of these two ROIs. "
   ]
  },
  {
   "cell_type": "code",
   "execution_count": 124,
   "metadata": {},
   "outputs": [
    {
     "data": {
      "text/plain": [
       "Text(0.5, 1.0, 'Circos plot of epoch data')"
      ]
     },
     "execution_count": 124,
     "metadata": {},
     "output_type": "execute_result"
    },
    {
     "data": {
      "image/png": "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\n",
      "text/plain": [
       "<Figure size 720x432 with 1 Axes>"
      ]
     },
     "metadata": {},
     "output_type": "display_data"
    }
   ],
   "source": [
    "# Load in the data\n",
    "epoch_data = raw_data[0] # Just load a single subject and a single epoch\n",
    "mask_top_n_file = os.path.join(output_dir, 'top_30/fc_no0_result_seq_top30.nii.gz')\n",
    "#mask_top_n_file = os.path.join(cur_dir, 'cherry_picked_brain/cherry_pick_brain_mask.nii.gz')\n",
    "mask_top_n_nii = nib.load(mask_top_n_file)  # Load the mask that leaves that participant out\n",
    "mask_top_n = mask_top_n_nii.get_fdata()\n",
    "\n",
    "# Convert the top n mask into a vector with the same number of elements as the whole brain\n",
    "mask_vec = mask.reshape(np.prod(mask.shape))\n",
    "mask_top_vec = mask_top_n.reshape(np.prod(mask_top_n.shape))[mask_vec]\n",
    "\n",
    "# Mask the epoch data\n",
    "epoch_data_masked = epoch_data[:, mask_top_vec==1]\n",
    "\n",
    "# Make the data c continguous \n",
    "epoch_data_masked = np.ascontiguousarray(epoch_data_masked.T, dtype=np.float32)\n",
    "\n",
    "# Create the internal correlation\n",
    "epoch_corr = compute_correlation(epoch_data_masked, epoch_data_masked)\n",
    "\n",
    "# Pull out the coordinates of the mask (in numpy space)\n",
    "coord_x, coord_y, coord_z = np.where(mask_top_n == 1)\n",
    "\n",
    "# Load the two simulated ROIs\n",
    "roiA = nib.load(os.path.join(cur_dir, 'cherry_picked_brain/cherry_pick200voxel_cond0.nii.gz')).get_fdata()\n",
    "roiB = nib.load(os.path.join(cur_dir, 'cherry_picked_brain/cherry_pick200voxel_cond1.nii.gz')).get_fdata()\n",
    "\n",
    "# %matplotlib inline\n",
    "\n",
    "# What is the (absolute) correlation threshold\n",
    "threshold = 0.95\n",
    "\n",
    "# Preset the graph\n",
    "G = nx.Graph()\n",
    "\n",
    "# Create the edge list\n",
    "nodelist = []\n",
    "edgelist = []\n",
    "for row_counter in range(epoch_corr.shape[0]):\n",
    "    nodelist.append(str(row_counter))  # Set up the node names\n",
    "    \n",
    "    for col_counter in range(epoch_corr.shape[1]):\n",
    "        \n",
    "        # Determine whether to include the edge based on whether it exceeds the threshold\n",
    "        if abs(epoch_corr[row_counter, col_counter]) > threshold:\n",
    "            # Add a tuple specifying the voxel pairs being compared and the weight of the edge\n",
    "            edgelist.append((str(row_counter), str(col_counter), {'weight': epoch_corr[row_counter, col_counter]}))\n",
    "        \n",
    "# Create the nodes in the graph\n",
    "G.add_nodes_from(nodelist)\n",
    "\n",
    "# Add the edges\n",
    "G.add_edges_from(edgelist)\n",
    "\n",
    "for n, d in G.nodes(data=True):\n",
    "    \n",
    "    # Is the voxel in roiA or B\n",
    "    if roiA[coord_x[int(n)],coord_y[int(n)],coord_z[int(n)]] == 1:\n",
    "        G.nodes[n]['grouping'] = 'roiA'\n",
    "\n",
    "    elif roiB[coord_x[int(n)],coord_y[int(n)],coord_z[int(n)]] == 1:\n",
    "        G.nodes[n]['grouping'] = 'roiB'\n",
    "\n",
    "\n",
    "c = CircosPlot(graph=G, node_grouping='grouping', node_color='grouping', group_label_position='middle',figsize=(10,6))\n",
    "c.draw()\n",
    "plt.title('Circos plot of epoch data')"
   ]
  },
  {
   "cell_type": "code",
   "execution_count": null,
   "metadata": {},
   "outputs": [],
   "source": []
  }
 ],
 "metadata": {
  "kernelspec": {
   "display_name": "Python 3",
   "language": "python",
   "name": "python3"
  },
  "language_info": {
   "codemirror_mode": {
    "name": "ipython",
    "version": 3
   },
   "file_extension": ".py",
   "mimetype": "text/x-python",
   "name": "python",
   "nbconvert_exporter": "python",
   "pygments_lexer": "ipython3",
   "version": "3.6.10"
  }
 },
 "nbformat": 4,
 "nbformat_minor": 2
}
